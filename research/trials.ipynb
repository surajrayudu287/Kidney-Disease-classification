{
 "cells": [
  {
   "metadata": {
    "ExecuteTime": {
     "end_time": "2025-06-09T19:09:57.851068Z",
     "start_time": "2025-06-09T19:09:57.826741Z"
    }
   },
   "cell_type": "code",
   "source": "d = {\"key\":\"val\", \"key1\": \"val1\"}",
   "id": "c1c8c1fcced70922",
   "outputs": [],
   "execution_count": 1
  },
  {
   "metadata": {
    "ExecuteTime": {
     "end_time": "2025-06-09T19:10:24.814781Z",
     "start_time": "2025-06-09T19:10:24.790023Z"
    }
   },
   "cell_type": "code",
   "source": "d['key']",
   "id": "475ed58fb6dc1314",
   "outputs": [
    {
     "data": {
      "text/plain": [
       "'val'"
      ]
     },
     "execution_count": 3,
     "metadata": {},
     "output_type": "execute_result"
    }
   ],
   "execution_count": 3
  },
  {
   "metadata": {
    "ExecuteTime": {
     "end_time": "2025-06-09T19:13:59.784098Z",
     "start_time": "2025-06-09T19:13:59.767099Z"
    }
   },
   "cell_type": "code",
   "source": [
    "from box import ConfigBox\n",
    "\n",
    "d1 = ConfigBox({\"key\":\"val\", \"key1\": \"val1\"})"
   ],
   "id": "eb90ff714d15f0d",
   "outputs": [],
   "execution_count": 8
  },
  {
   "metadata": {
    "ExecuteTime": {
     "end_time": "2025-06-09T19:14:15.133374Z",
     "start_time": "2025-06-09T19:14:15.117254Z"
    }
   },
   "cell_type": "code",
   "source": "d1.keys",
   "id": "2ee6cf62194f202d",
   "outputs": [
    {
     "data": {
      "text/plain": [
       "<bound method Box.keys of ConfigBox({'key': 'val', 'key1': 'val1'})>"
      ]
     },
     "execution_count": 9,
     "metadata": {},
     "output_type": "execute_result"
    }
   ],
   "execution_count": 9
  },
  {
   "metadata": {
    "ExecuteTime": {
     "end_time": "2025-06-09T19:14:24.731075Z",
     "start_time": "2025-06-09T19:14:24.720033Z"
    }
   },
   "cell_type": "code",
   "source": "d1.key",
   "id": "8b94a31dbbdc1130",
   "outputs": [
    {
     "data": {
      "text/plain": [
       "'val'"
      ]
     },
     "execution_count": 10,
     "metadata": {},
     "output_type": "execute_result"
    }
   ],
   "execution_count": 10
  }
 ],
 "metadata": {},
 "nbformat": 4,
 "nbformat_minor": 5
}
