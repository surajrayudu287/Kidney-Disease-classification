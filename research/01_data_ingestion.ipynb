{
 "cells": [
  {
   "cell_type": "code",
   "id": "initial_id",
   "metadata": {
    "collapsed": true,
    "ExecuteTime": {
     "end_time": "2025-06-10T18:57:08.109655Z",
     "start_time": "2025-06-10T18:57:08.094327Z"
    }
   },
   "source": "import os",
   "outputs": [],
   "execution_count": 1
  },
  {
   "metadata": {
    "ExecuteTime": {
     "end_time": "2025-06-10T18:57:16.920077Z",
     "start_time": "2025-06-10T18:57:16.895139Z"
    }
   },
   "cell_type": "code",
   "source": "%pwd",
   "id": "8eb7cca998eb502",
   "outputs": [
    {
     "data": {
      "text/plain": [
       "'C:\\\\Users\\\\suraj\\\\Kidney-Disease-classification\\\\research'"
      ]
     },
     "execution_count": 2,
     "metadata": {},
     "output_type": "execute_result"
    }
   ],
   "execution_count": 2
  },
  {
   "metadata": {
    "ExecuteTime": {
     "end_time": "2025-06-10T18:58:18.672491Z",
     "start_time": "2025-06-10T18:58:18.656493Z"
    }
   },
   "cell_type": "code",
   "source": "os.chdir(\"../\")",
   "id": "d9275eeea1a89ffd",
   "outputs": [],
   "execution_count": 3
  },
  {
   "metadata": {
    "ExecuteTime": {
     "end_time": "2025-06-10T18:58:26.986899Z",
     "start_time": "2025-06-10T18:58:26.971253Z"
    }
   },
   "cell_type": "code",
   "source": "%pwd",
   "id": "e21696876af4ee3f",
   "outputs": [
    {
     "data": {
      "text/plain": [
       "'C:\\\\Users\\\\suraj\\\\Kidney-Disease-classification'"
      ]
     },
     "execution_count": 4,
     "metadata": {},
     "output_type": "execute_result"
    }
   ],
   "execution_count": 4
  },
  {
   "metadata": {
    "ExecuteTime": {
     "end_time": "2025-06-10T19:01:41.810096Z",
     "start_time": "2025-06-10T19:01:41.794988Z"
    }
   },
   "cell_type": "code",
   "source": [
    "from dataclasses import dataclass\n",
    "from pathlib import Path\n",
    "\n",
    "\n",
    "@dataclass(frozen=True)\n",
    "class DataIngestionConfig:\n",
    "    root_dir: Path\n",
    "    source_URL: str\n",
    "    local_data_file: Path\n",
    "    unzip_dir: Path"
   ],
   "id": "4fe9b40c16be14c",
   "outputs": [],
   "execution_count": 5
  },
  {
   "metadata": {
    "ExecuteTime": {
     "end_time": "2025-06-10T19:06:34.867998Z",
     "start_time": "2025-06-10T19:06:31.455938Z"
    }
   },
   "cell_type": "code",
   "source": [
    "from src.CnnClassifier.constants import *\n",
    "from src.CnnClassifier.utils.common import read_yaml,create_directories"
   ],
   "id": "d3c05d5513cc0009",
   "outputs": [],
   "execution_count": 7
  },
  {
   "metadata": {
    "ExecuteTime": {
     "end_time": "2025-06-10T19:10:43.230245Z",
     "start_time": "2025-06-10T19:10:43.210068Z"
    }
   },
   "cell_type": "code",
   "source": [
    "class ConfigurationManager:\n",
    "    def __init__(\n",
    "        self,\n",
    "        config_filepath = CONFIG_FILE_PATH,\n",
    "        params_filepath = PARAMS_FILE_PATH):\n",
    "\n",
    "        self.config = read_yaml(config_filepath)\n",
    "        self.params = read_yaml(params_filepath)\n",
    "\n",
    "        create_directories([self.config.artifacts_root])\n",
    "\n",
    "\n",
    "\n",
    "    def get_data_ingestion_config(self) -> DataIngestionConfig:\n",
    "        config = self.config.data_ingestion\n",
    "\n",
    "        create_directories([config.root_dir])\n",
    "\n",
    "        data_ingestion_config = DataIngestionConfig(\n",
    "            root_dir=config.root_dir,\n",
    "            source_URL=config.source_URL,\n",
    "            local_data_file=config.local_data_file,\n",
    "            unzip_dir=config.unzip_dir\n",
    "        )\n",
    "\n",
    "        return data_ingestion_config"
   ],
   "id": "88ebb6d13c4a1120",
   "outputs": [],
   "execution_count": 8
  },
  {
   "metadata": {
    "ExecuteTime": {
     "end_time": "2025-06-10T19:12:53.622413Z",
     "start_time": "2025-06-10T19:12:53.597719Z"
    }
   },
   "cell_type": "code",
   "source": [
    "import zipfile\n",
    "import gdown\n",
    "from src.CnnClassifier import logger\n",
    "from src.CnnClassifier.utils.common import get_size"
   ],
   "id": "108873c76e4d4b13",
   "outputs": [],
   "execution_count": 11
  },
  {
   "metadata": {
    "ExecuteTime": {
     "end_time": "2025-06-10T19:14:50.332222Z",
     "start_time": "2025-06-10T19:14:50.324171Z"
    }
   },
   "cell_type": "code",
   "source": [
    "class DataIngestion:\n",
    "    def __init__(self, config: DataIngestionConfig):\n",
    "        self.config = config\n",
    "\n",
    "\n",
    "    def download_file(self)-> str:\n",
    "        '''\n",
    "        Fetch data from the url\n",
    "        '''\n",
    "\n",
    "        try:\n",
    "            dataset_url = self.config.source_URL\n",
    "            zip_download_dir = self.config.local_data_file\n",
    "            os.makedirs(\"artifacts/data_ingestion\", exist_ok=True)\n",
    "            logger.info(f\"Downloading data from {dataset_url} into file {zip_download_dir}\")\n",
    "\n",
    "            file_id = dataset_url.split(\"/\")[-2]\n",
    "            prefix = 'https://drive.google.com/uc?/export=download&id='\n",
    "            gdown.download(prefix+file_id,zip_download_dir)\n",
    "\n",
    "            logger.info(f\"Downloaded data from {dataset_url} into file {zip_download_dir}\")\n",
    "\n",
    "        except Exception as e:\n",
    "            raise e\n",
    "\n",
    "\n",
    "\n",
    "    def extract_zip_file(self):\n",
    "        \"\"\"\n",
    "        zip_file_path: str\n",
    "        Extracts the zip file into the data directory\n",
    "        Function returns None\n",
    "        \"\"\"\n",
    "        unzip_path = self.config.unzip_dir\n",
    "        os.makedirs(unzip_path, exist_ok=True)\n",
    "        with zipfile.ZipFile(self.config.local_data_file, 'r') as zip_ref:\n",
    "            zip_ref.extractall(unzip_path)"
   ],
   "id": "acb5085bc9dc683e",
   "outputs": [],
   "execution_count": 13
  },
  {
   "metadata": {
    "ExecuteTime": {
     "end_time": "2025-06-10T19:17:19.617295Z",
     "start_time": "2025-06-10T19:16:07.818692Z"
    }
   },
   "cell_type": "code",
   "source": [
    "try:\n",
    "    config = ConfigurationManager()\n",
    "    data_ingestion_config = config.get_data_ingestion_config()\n",
    "    data_ingestion = DataIngestion(config=data_ingestion_config)\n",
    "    data_ingestion.download_file()\n",
    "    data_ingestion.extract_zip_file()\n",
    "except Exception as e:\n",
    "    raise e"
   ],
   "id": "7601841f62cf2bff",
   "outputs": [
    {
     "name": "stdout",
     "output_type": "stream",
     "text": [
      "[2025-06-10 14:16:07,818: INFO: common: yaml file: config\\config.yaml loaded successfully]\n",
      "[2025-06-10 14:16:07,829: INFO: common: yaml file: params.yaml loaded successfully]\n",
      "[2025-06-10 14:16:07,829: INFO: common: created directory at: artifacts]\n",
      "[2025-06-10 14:16:07,835: INFO: common: created directory at: artifacts/data_ingestion]\n",
      "[2025-06-10 14:16:07,835: INFO: 2140807067: Downloading data from https://drive.google.com/file/d/1sTXnAViiu4j7dxh3xKb4xAA_vmQasNnL/view?usp=sharing into file artifacts/data_ingestion/dataset.zip]\n"
     ]
    },
    {
     "name": "stderr",
     "output_type": "stream",
     "text": [
      "Downloading...\n",
      "From (original): https://drive.google.com/uc?/export=download&id=1sTXnAViiu4j7dxh3xKb4xAA_vmQasNnL\n",
      "From (redirected): https://drive.google.com/uc?%2Fexport=download&id=1sTXnAViiu4j7dxh3xKb4xAA_vmQasNnL&confirm=t&uuid=8dc275d7-b974-42c0-a84f-d1e09184d418\n",
      "To: C:\\Users\\suraj\\Kidney-Disease-classification\\artifacts\\data_ingestion\\dataset.zip\n",
      "100%|██████████| 940M/940M [00:30<00:00, 30.4MB/s] "
     ]
    },
    {
     "name": "stdout",
     "output_type": "stream",
     "text": [
      "[2025-06-10 14:16:42,561: INFO: 2140807067: Downloaded data from https://drive.google.com/file/d/1sTXnAViiu4j7dxh3xKb4xAA_vmQasNnL/view?usp=sharing into file artifacts/data_ingestion/dataset.zip]\n"
     ]
    },
    {
     "name": "stderr",
     "output_type": "stream",
     "text": [
      "\n"
     ]
    }
   ],
   "execution_count": 14
  },
  {
   "metadata": {},
   "cell_type": "code",
   "outputs": [],
   "execution_count": null,
   "source": "",
   "id": "fce88bce5e8f3d90"
  },
  {
   "metadata": {},
   "cell_type": "code",
   "outputs": [],
   "execution_count": null,
   "source": "",
   "id": "6b6a2c0ff0ebcd76"
  },
  {
   "metadata": {},
   "cell_type": "code",
   "outputs": [],
   "execution_count": null,
   "source": "",
   "id": "f7eaa72b689058df"
  },
  {
   "metadata": {},
   "cell_type": "code",
   "outputs": [],
   "execution_count": null,
   "source": "",
   "id": "9e95b0664d93ac8b"
  },
  {
   "metadata": {},
   "cell_type": "code",
   "outputs": [],
   "execution_count": null,
   "source": "",
   "id": "33eea4ba506e9c08"
  },
  {
   "metadata": {},
   "cell_type": "code",
   "outputs": [],
   "execution_count": null,
   "source": "",
   "id": "b61af0bc4f91ac3d"
  }
 ],
 "metadata": {
  "kernelspec": {
   "display_name": "Python 3",
   "language": "python",
   "name": "python3"
  },
  "language_info": {
   "codemirror_mode": {
    "name": "ipython",
    "version": 2
   },
   "file_extension": ".py",
   "mimetype": "text/x-python",
   "name": "python",
   "nbconvert_exporter": "python",
   "pygments_lexer": "ipython2",
   "version": "2.7.6"
  }
 },
 "nbformat": 4,
 "nbformat_minor": 5
}
