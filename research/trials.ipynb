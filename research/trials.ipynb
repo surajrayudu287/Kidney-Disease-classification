{
 "cells": [
  {
   "metadata": {
    "ExecuteTime": {
     "end_time": "2025-06-09T19:09:57.851068Z",
     "start_time": "2025-06-09T19:09:57.826741Z"
    }
   },
   "cell_type": "code",
   "source": "d = {\"key\":\"val\", \"key1\": \"val1\"}",
   "id": "c1c8c1fcced70922",
   "outputs": [],
   "execution_count": 1
  },
  {
   "metadata": {
    "ExecuteTime": {
     "end_time": "2025-06-09T19:10:24.814781Z",
     "start_time": "2025-06-09T19:10:24.790023Z"
    }
   },
   "cell_type": "code",
   "source": "d['key']",
   "id": "475ed58fb6dc1314",
   "outputs": [
    {
     "data": {
      "text/plain": [
       "'val'"
      ]
     },
     "execution_count": 3,
     "metadata": {},
     "output_type": "execute_result"
    }
   ],
   "execution_count": 3
  },
  {
   "metadata": {
    "ExecuteTime": {
     "end_time": "2025-06-09T19:13:59.784098Z",
     "start_time": "2025-06-09T19:13:59.767099Z"
    }
   },
   "cell_type": "code",
   "source": [
    "from box import ConfigBox\n",
    "\n",
    "d1 = ConfigBox({\"key\":\"val\", \"key1\": \"val1\"})"
   ],
   "id": "eb90ff714d15f0d",
   "outputs": [],
   "execution_count": 8
  },
  {
   "metadata": {
    "ExecuteTime": {
     "end_time": "2025-06-09T19:14:15.133374Z",
     "start_time": "2025-06-09T19:14:15.117254Z"
    }
   },
   "cell_type": "code",
   "source": "d1.keys",
   "id": "2ee6cf62194f202d",
   "outputs": [
    {
     "data": {
      "text/plain": [
       "<bound method Box.keys of ConfigBox({'key': 'val', 'key1': 'val1'})>"
      ]
     },
     "execution_count": 9,
     "metadata": {},
     "output_type": "execute_result"
    }
   ],
   "execution_count": 9
  },
  {
   "metadata": {
    "ExecuteTime": {
     "end_time": "2025-06-09T19:14:24.731075Z",
     "start_time": "2025-06-09T19:14:24.720033Z"
    }
   },
   "cell_type": "code",
   "source": "d1.key",
   "id": "8b94a31dbbdc1130",
   "outputs": [
    {
     "data": {
      "text/plain": [
       "'val'"
      ]
     },
     "execution_count": 10,
     "metadata": {},
     "output_type": "execute_result"
    }
   ],
   "execution_count": 10
  },
  {
   "metadata": {},
   "cell_type": "markdown",
   "source": "download data from google drive",
   "id": "6b1c17993f79c96f"
  },
  {
   "metadata": {
    "ExecuteTime": {
     "end_time": "2025-06-10T18:42:50.080344Z",
     "start_time": "2025-06-10T18:42:49.789962Z"
    }
   },
   "cell_type": "code",
   "source": "import gdown",
   "id": "6d41b5b9051e5047",
   "outputs": [],
   "execution_count": 1
  },
  {
   "metadata": {
    "ExecuteTime": {
     "end_time": "2025-06-10T18:43:31.106594Z",
     "start_time": "2025-06-10T18:43:31.095378Z"
    }
   },
   "cell_type": "code",
   "source": "url = \"https://drive.google.com/file/d/1sTXnAViiu4j7dxh3xKb4xAA_vmQasNnL/view?usp=sharing\"",
   "id": "3c29bd212d25c144",
   "outputs": [],
   "execution_count": 2
  },
  {
   "metadata": {
    "ExecuteTime": {
     "end_time": "2025-06-10T18:45:29.363612Z",
     "start_time": "2025-06-10T18:45:29.350853Z"
    }
   },
   "cell_type": "code",
   "source": [
    "file_id = url.split(\"/\")[-2]\n",
    "file_id"
   ],
   "id": "83779347b57f4e73",
   "outputs": [
    {
     "data": {
      "text/plain": [
       "'1sTXnAViiu4j7dxh3xKb4xAA_vmQasNnL'"
      ]
     },
     "execution_count": 4,
     "metadata": {},
     "output_type": "execute_result"
    }
   ],
   "execution_count": 4
  },
  {
   "metadata": {
    "ExecuteTime": {
     "end_time": "2025-06-10T18:48:41.354559Z",
     "start_time": "2025-06-10T18:48:07.491370Z"
    }
   },
   "cell_type": "code",
   "source": [
    "prefix = 'https://drive.google.com/uc?/export=download&id='\n",
    "gdown.download(prefix+file_id, \"KDC-dataset.zip\")"
   ],
   "id": "4eddf6ae74184f8c",
   "outputs": [
    {
     "name": "stderr",
     "output_type": "stream",
     "text": [
      "Downloading...\n",
      "From (original): https://drive.google.com/uc?/export=download&id=1sTXnAViiu4j7dxh3xKb4xAA_vmQasNnL\n",
      "From (redirected): https://drive.google.com/uc?%2Fexport=download&id=1sTXnAViiu4j7dxh3xKb4xAA_vmQasNnL&confirm=t&uuid=bcee4063-439d-4257-b1a0-e29b2b14a652\n",
      "To: C:\\Users\\suraj\\Kidney-Disease-classification\\research\\KDC-dataset.zip\n",
      "100%|██████████| 940M/940M [00:33<00:00, 28.4MB/s] \n"
     ]
    },
    {
     "data": {
      "text/plain": [
       "'KDC-dataset.zip'"
      ]
     },
     "execution_count": 5,
     "metadata": {},
     "output_type": "execute_result"
    }
   ],
   "execution_count": 5
  },
  {
   "metadata": {},
   "cell_type": "code",
   "outputs": [],
   "execution_count": null,
   "source": "",
   "id": "b3d796ed5f61703d"
  },
  {
   "metadata": {},
   "cell_type": "code",
   "outputs": [],
   "execution_count": null,
   "source": "",
   "id": "a2738828ec4bab87"
  },
  {
   "metadata": {},
   "cell_type": "code",
   "outputs": [],
   "execution_count": null,
   "source": "",
   "id": "224e55ac6b99832c"
  },
  {
   "metadata": {},
   "cell_type": "code",
   "outputs": [],
   "execution_count": null,
   "source": "",
   "id": "a2a64ff7bc27ca50"
  },
  {
   "metadata": {},
   "cell_type": "code",
   "outputs": [],
   "execution_count": null,
   "source": "",
   "id": "ed18a415784c8b31"
  },
  {
   "metadata": {},
   "cell_type": "code",
   "outputs": [],
   "execution_count": null,
   "source": "",
   "id": "8853495315bdf44f"
  },
  {
   "metadata": {},
   "cell_type": "code",
   "outputs": [],
   "execution_count": null,
   "source": "",
   "id": "a917d4f45c2c1ec1"
  }
 ],
 "metadata": {},
 "nbformat": 4,
 "nbformat_minor": 5
}
