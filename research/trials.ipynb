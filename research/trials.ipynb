{
 "cells": [
  {
   "metadata": {
    "ExecuteTime": {
     "end_time": "2025-06-09T19:09:57.851068Z",
     "start_time": "2025-06-09T19:09:57.826741Z"
    }
   },
   "cell_type": "raw",
   "source": [
    "{\n",
    " \"cells\": [\n",
    "  {\n",
    "   \"metadata\": {\n",
    "    \"ExecuteTime\": {\n",
    "     \"end_time\": \"2025-06-09T19:09:57.851068Z\",\n",
    "     \"start_time\": \"2025-06-09T19:09:57.826741Z\"\n",
    "    }\n",
    "   },\n",
    "   \"cell_type\": \"code\",\n",
    "   \"source\": \"d = {\\\"key\\\":\\\"val\\\", \\\"key1\\\": \\\"val1\\\"}\",\n",
    "   \"id\": \"c1c8c1fcced70922\",\n",
    "   \"outputs\": [],\n",
    "   \"execution_count\": 1\n",
    "  },\n",
    "  {\n",
    "   \"metadata\": {\n",
    "    \"ExecuteTime\": {\n",
    "     \"end_time\": \"2025-06-09T19:10:24.814781Z\",\n",
    "     \"start_time\": \"2025-06-09T19:10:24.790023Z\"\n",
    "    }\n",
    "   },\n",
    "   \"cell_type\": \"code\",\n",
    "   \"source\": \"d['key']\",\n",
    "   \"id\": \"475ed58fb6dc1314\",\n",
    "   \"outputs\": [\n",
    "    {\n",
    "     \"data\": {\n",
    "      \"text/plain\": [\n",
    "       \"'val'\"\n",
    "      ]\n",
    "     },\n",
    "     \"execution_count\": 3,\n",
    "     \"metadata\": {},\n",
    "     \"output_type\": \"execute_result\"\n",
    "    }\n",
    "   ],\n",
    "   \"execution_count\": 3\n",
    "  },\n",
    "  {\n",
    "   \"metadata\": {\n",
    "    \"ExecuteTime\": {\n",
    "     \"end_time\": \"2025-06-09T19:13:59.784098Z\",\n",
    "     \"start_time\": \"2025-06-09T19:13:59.767099Z\"\n",
    "    }\n",
    "   },\n",
    "   \"cell_type\": \"code\",\n",
    "   \"source\": [\n",
    "    \"from box import ConfigBox\\n\",\n",
    "    \"\\n\",\n",
    "    \"d1 = ConfigBox({\\\"key\\\":\\\"val\\\", \\\"key1\\\": \\\"val1\\\"})\"\n",
    "   ],\n",
    "   \"id\": \"eb90ff714d15f0d\",\n",
    "   \"outputs\": [],\n",
    "   \"execution_count\": 8\n",
    "  },\n",
    "  {\n",
    "   \"metadata\": {\n",
    "    \"ExecuteTime\": {\n",
    "     \"end_time\": \"2025-06-09T19:14:15.133374Z\",\n",
    "     \"start_time\": \"2025-06-09T19:14:15.117254Z\"\n",
    "    }\n",
    "   },\n",
    "   \"cell_type\": \"code\",\n",
    "   \"source\": \"d1.keys\",\n",
    "   \"id\": \"2ee6cf62194f202d\",\n",
    "   \"outputs\": [\n",
    "    {\n",
    "     \"data\": {\n",
    "      \"text/plain\": [\n",
    "       \"<bound method Box.keys of ConfigBox({'key': 'val', 'key1': 'val1'})>\"\n",
    "      ]\n",
    "     },\n",
    "     \"execution_count\": 9,\n",
    "     \"metadata\": {},\n",
    "     \"output_type\": \"execute_result\"\n",
    "    }\n",
    "   ],\n",
    "   \"execution_count\": 9\n",
    "  },\n",
    "  {\n",
    "   \"metadata\": {\n",
    "    \"ExecuteTime\": {\n",
    "     \"end_time\": \"2025-06-09T19:14:24.731075Z\",\n",
    "     \"start_time\": \"2025-06-09T19:14:24.720033Z\"\n",
    "    }\n",
    "   },\n",
    "   \"cell_type\": \"code\",\n",
    "   \"source\": \"d1.key\",\n",
    "   \"id\": \"8b94a31dbbdc1130\",\n",
    "   \"outputs\": [\n",
    "    {\n",
    "     \"data\": {\n",
    "      \"text/plain\": [\n",
    "       \"'val'\"\n",
    "      ]\n",
    "     },\n",
    "     \"execution_count\": 10,\n",
    "     \"metadata\": {},\n",
    "     \"output_type\": \"execute_result\"\n",
    "    }\n",
    "   ],\n",
    "   \"execution_count\": 10\n",
    "  }\n",
    " ],\n",
    " \"metadata\": {},\n",
    " \"nbformat\": 4,\n",
    " \"nbformat_minor\": 5\n",
    "}\n"
   ],
   "id": "c1c8c1fcced70922",
   "outputs": [],
   "execution_count": 1
  },
  {
   "metadata": {
    "ExecuteTime": {
     "end_time": "2025-06-09T19:13:59.784098Z",
     "start_time": "2025-06-09T19:13:59.767099Z"
    }
   },
   "cell_type": "code",
   "source": [
    "from box import ConfigBox\n",
    "\n",
    "d1 = ConfigBox({\"key\":\"val\", \"key1\": \"val1\"})"
   ],
   "id": "eb90ff714d15f0d",
   "outputs": [],
   "execution_count": 8
  },
  {
   "metadata": {
    "ExecuteTime": {
     "end_time": "2025-06-09T19:14:24.731075Z",
     "start_time": "2025-06-09T19:14:24.720033Z"
    }
   },
   "cell_type": "code",
   "source": "d1.key",
   "id": "8b94a31dbbdc1130",
   "outputs": [
    {
     "data": {
      "text/plain": [
       "'val'"
      ]
     },
     "execution_count": 10,
     "metadata": {},
     "output_type": "execute_result"
    }
   ],
   "execution_count": 10
  }
 ],
 "metadata": {},
 "nbformat": 4,
 "nbformat_minor": 5
}
